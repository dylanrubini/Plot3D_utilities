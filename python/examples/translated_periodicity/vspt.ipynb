{
 "cells": [
  {
   "cell_type": "code",
   "execution_count": null,
   "metadata": {},
   "outputs": [],
   "source": []
  }
 ],
 "metadata": {
  "kernelspec": {
   "display_name": "dev",
   "language": "python",
   "name": "python3"
  },
  "language_info": {
   "name": "python",
   "version": "3.11.0"
  },
  "orig_nbformat": 4,
  "vscode": {
   "interpreter": {
    "hash": "db90e3cb8c70a8a672c51f113ecde04a0515f2ecdadc970962a65cd8f81710b3"
   }
  }
 },
 "nbformat": 4,
 "nbformat_minor": 2
}
