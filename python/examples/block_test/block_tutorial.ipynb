{
 "cells": [
  {
   "attachments": {},
   "cell_type": "markdown",
   "metadata": {},
   "source": [
    "# Translated Periodicity using a simple Block\n",
    "The mesh shown below has periodic faces on the z and y axis. The code below shows how we find the translated periodicity in the y and z directions.\n",
    "\n",
    "Steps Overview\n",
    "1. Find Connectivity - This splits the faces of all the blocks so that they match \n",
    "2. Build the Block connectivity matrix using connectivity - Uses the split faces to determine which blocks are connected. value of 1 = connected, 0 = not searched yet, -1 = not connected \n",
    "3. Search for connected faces on the z and y axis - Uses the block connectivity to find the outer connected faces. So, all the top faces for instance. \n",
    "4. Find translated periodicity - Uses the connected faces e.g. the left and right, or top and bottom, or front and back. Checks the connected faces to see if any of them match faces from the other side. \n",
    "\n",
    "![image.png](tutorial_images/cmc009-overview.png)"
   ]
  },
  {
   "cell_type": "code",
   "execution_count": null,
   "metadata": {},
   "outputs": [],
   "source": [
    "# Install Plot3D\n",
    "!pip install plot3d"
   ]
  },
  {
   "cell_type": "code",
   "execution_count": 14,
   "metadata": {},
   "outputs": [],
   "source": [
    "# Import functions\n",
    "import os, pickle\n",
    "from plot3d import read_plot3D, connectivity_fast,translational_periodicity, write_plot3D, Direction, split_blocks, block_connection_matrix, find_bounding_faces\n",
    "from plot3d import outer_face_dict_to_list, match_faces_dict_to_list\n",
    "import numpy as np\n",
    "#%% Find connectivity \n",
    "def dump_data(data):\n",
    "    with open('block_data.pickle','wb') as f:\n",
    "        pickle.dump(data,f)\n",
    "\n",
    "def read_data():\n",
    "    with open('block_data.pickle','rb') as f:\n",
    "        return pickle.load(f)\n"
   ]
  },
  {
   "cell_type": "code",
   "execution_count": 15,
   "metadata": {},
   "outputs": [
    {
     "name": "stdout",
     "output_type": "stream",
     "text": [
      "Number of blocks: 64\n"
     ]
    }
   ],
   "source": [
    "# Load the mesh\n",
    "blocks = read_plot3D('iso65_64blocks.p3d',False)\n",
    "write_plot3D('iso65_64blocks.xyz',blocks,True)\n",
    "n = len(blocks)\n",
    "print(f'Number of blocks: {n}')"
   ]
  },
  {
   "attachments": {},
   "cell_type": "markdown",
   "metadata": {},
   "source": [
    "## Step 1: Find Connectivity\n",
    "The code below finds the connectivity and creates the pickle file storing the connectivity "
   ]
  },
  {
   "cell_type": "code",
   "execution_count": 16,
   "metadata": {},
   "outputs": [
    {
     "name": "stdout",
     "output_type": "stream",
     "text": [
      "Finding connectivity\n",
      "gcd to use 16\n"
     ]
    },
    {
     "name": "stderr",
     "output_type": "stream",
     "text": [
      "Finding nearest blocks comparing 62 with 63: 100%|██████████| 2016/2016 [00:05<00:00, 382.76it/s]\n",
      "Checking connections block 62 with 63: 100%|██████████| 363/363 [00:18<00:00, 19.73it/s]\n"
     ]
    },
    {
     "name": "stdout",
     "output_type": "stream",
     "text": [
      "Organizing split and outerfaces\n"
     ]
    }
   ],
   "source": [
    "print('Finding connectivity')\n",
    "face_matches, outer_faces = connectivity_fast(blocks)\n",
    "[m.pop('match',None) for m in face_matches] # Remove the dataframe to save as pickle file \n",
    "print('Organizing split and outerfaces')\n",
    "all_faces = match_faces_dict_to_list(blocks,face_matches)\n",
    "all_faces.extend(outer_face_dict_to_list(blocks,outer_faces))\n",
    "all_faces = [m.to_dict() for m in all_faces]\n",
    "data = {\n",
    "            \"face_matches\":face_matches, \n",
    "            \"outer_faces\":outer_faces,\n",
    "            \"all_faces\":all_faces\n",
    "        }\n",
    "dump_data(data)"
   ]
  },
  {
   "attachments": {},
   "cell_type": "markdown",
   "metadata": {},
   "source": [
    "## Step 2: Build Block to Block connectivity matrix\n",
    "Block to block connectivity makes it easier to search for which blocks are connected. For example `print(c[10,4])` if this is 1 then that means blocks 10 and 4 are touching. \n",
    "\n",
    "Figure below shows an example of the connections for block 704. \n",
    "\n",
    "![block connectivity](tutorial_images/cmc009-block-connectivity.png)"
   ]
  },
  {
   "cell_type": "code",
   "execution_count": 19,
   "metadata": {},
   "outputs": [
    {
     "name": "stdout",
     "output_type": "stream",
     "text": [
      "Creating block connection matrix\n"
     ]
    },
    {
     "name": "stderr",
     "output_type": "stream",
     "text": [
      "Building block to block connectivity matrix: checking 62: 100%|██████████| 2016/2016 [00:02<00:00, 999.50it/s] \n"
     ]
    }
   ],
   "source": [
    "data = read_data()\n",
    "print('Creating block connection matrix')\n",
    "c = block_connection_matrix(blocks,all_faces)\n",
    "data[\"connectivity_matrix\"]=c\n",
    "dump_data(data)\n"
   ]
  },
  {
   "attachments": {},
   "cell_type": "markdown",
   "metadata": {},
   "source": [
    "These are the blocks where block 2 is connected to. We have blocks 0,3,6, and 16. Block 2 is automtically connected with itself. "
   ]
  },
  {
   "cell_type": "code",
   "execution_count": 20,
   "metadata": {},
   "outputs": [
    {
     "name": "stdout",
     "output_type": "stream",
     "text": [
      "connectivity matrix shape: 64 by 64\n"
     ]
    },
    {
     "data": {
      "text/plain": [
       "(array([ 0,  2,  3,  6, 16], dtype=int64),)"
      ]
     },
     "execution_count": 20,
     "metadata": {},
     "output_type": "execute_result"
    }
   ],
   "source": [
    "print(\"connectivity matrix shape: \" + str(c.shape[0]) + ' by ' + str(c.shape[1]))\n",
    "np.where(c[2,:]==1)"
   ]
  },
  {
   "attachments": {},
   "cell_type": "markdown",
   "metadata": {},
   "source": [
    "## Step 3: Find bounding faces\n",
    "These are faces on either the left or right side of the block."
   ]
  },
  {
   "cell_type": "code",
   "execution_count": 21,
   "metadata": {},
   "outputs": [],
   "source": [
    "data = read_data()    \n",
    "all_faces = data['all_faces']\n",
    "connectivity_matrix = data['connectivity_matrix']\n",
    "\n",
    "#%% Find bounding Faces\n",
    "lower_bound, upper_bound,_,_ = find_bounding_faces(blocks,connectivity_matrix,all_faces,\"z\")\n",
    "left_bound, right_bound,_,_ = find_bounding_faces(blocks,connectivity_matrix,all_faces,\"y\")\n",
    "data['lower_bound'] = lower_bound\n",
    "data['upper_bound'] = upper_bound\n",
    "data['left_bound'] = left_bound\n",
    "data['right_bound'] = right_bound\n",
    "dump_data(data)"
   ]
  },
  {
   "attachments": {},
   "cell_type": "markdown",
   "metadata": {},
   "source": [
    "## Step 4: Find Periodicity\n",
    "In this step we determine the connected faces in the y-direction as well as the z-direction. The program will automatically inform the user if it's not periodic due to not all faces matching. If this is the case then the faces should be plotted using paraview and the user needs to check with their grid generator or manually add in the connectivity. "
   ]
  },
  {
   "cell_type": "code",
   "execution_count": 24,
   "metadata": {},
   "outputs": [
    {
     "name": "stderr",
     "output_type": "stream",
     "text": [
      "Checking connections block 17 with 54:   0%|          | 0/16 [00:00<?, ?it/s]\n"
     ]
    },
    {
     "name": "stdout",
     "output_type": "stream",
     "text": [
      "\n",
      "Not periodic y\n"
     ]
    },
    {
     "name": "stderr",
     "output_type": "stream",
     "text": [
      "Checking connections block 45 with 63: 100%|██████████| 16/16 [00:00<00:00, 43.13it/s]\n"
     ]
    },
    {
     "name": "stdout",
     "output_type": "stream",
     "text": [
      "\n",
      "Periodic z\n",
      "Left faces missing\n",
      "{'IMIN': 0, 'JMIN': 0, 'KMIN': 0, 'IMAX': 0, 'JMAX': 16, 'KMAX': 16, 'id': 0, 'block_index': 3}\n",
      "{'IMIN': 0, 'JMIN': 0, 'KMIN': 0, 'IMAX': 0, 'JMAX': 16, 'KMAX': 16, 'id': 0, 'block_index': 1}\n",
      "{'IMIN': 0, 'JMIN': 0, 'KMIN': 0, 'IMAX': 0, 'JMAX': 16, 'KMAX': 16, 'id': 0, 'block_index': 2}\n",
      "{'IMIN': 0, 'JMIN': 0, 'KMIN': 0, 'IMAX': 0, 'JMAX': 16, 'KMAX': 16, 'id': 0, 'block_index': 17}\n",
      "{'IMIN': 0, 'JMIN': 0, 'KMIN': 0, 'IMAX': 0, 'JMAX': 16, 'KMAX': 16, 'id': 0, 'block_index': 10}\n",
      "{'IMIN': 0, 'JMIN': 0, 'KMIN': 0, 'IMAX': 0, 'JMAX': 16, 'KMAX': 16, 'id': 0, 'block_index': 16}\n",
      "{'IMIN': 0, 'JMIN': 0, 'KMIN': 0, 'IMAX': 0, 'JMAX': 16, 'KMAX': 16, 'id': 0, 'block_index': 19}\n",
      "{'IMIN': 0, 'JMIN': 0, 'KMIN': 0, 'IMAX': 0, 'JMAX': 16, 'KMAX': 16, 'id': 0, 'block_index': 24}\n",
      "{'IMIN': 0, 'JMIN': 0, 'KMIN': 0, 'IMAX': 0, 'JMAX': 16, 'KMAX': 16, 'id': 0, 'block_index': 8}\n",
      "{'IMIN': 0, 'JMIN': 0, 'KMIN': 0, 'IMAX': 0, 'JMAX': 16, 'KMAX': 16, 'id': 0, 'block_index': 11}\n",
      "{'IMIN': 0, 'JMIN': 0, 'KMIN': 0, 'IMAX': 0, 'JMAX': 16, 'KMAX': 16, 'id': 0, 'block_index': 0}\n",
      "{'IMIN': 0, 'JMIN': 0, 'KMIN': 0, 'IMAX': 0, 'JMAX': 16, 'KMAX': 16, 'id': 0, 'block_index': 18}\n",
      "{'IMIN': 0, 'JMIN': 0, 'KMIN': 0, 'IMAX': 0, 'JMAX': 16, 'KMAX': 16, 'id': 0, 'block_index': 26}\n",
      "{'IMIN': 0, 'JMIN': 0, 'KMIN': 0, 'IMAX': 0, 'JMAX': 16, 'KMAX': 16, 'id': 0, 'block_index': 25}\n",
      "{'IMIN': 0, 'JMIN': 0, 'KMIN': 0, 'IMAX': 0, 'JMAX': 16, 'KMAX': 16, 'id': 0, 'block_index': 9}\n",
      "{'IMIN': 0, 'JMIN': 0, 'KMIN': 0, 'IMAX': 0, 'JMAX': 16, 'KMAX': 16, 'id': 0, 'block_index': 27}\n",
      "Right faces missing\n",
      "{'IMIN': 16, 'JMIN': 0, 'KMIN': 0, 'IMAX': 16, 'JMAX': 16, 'KMAX': 16, 'id': 0, 'block_index': 38}\n",
      "{'IMIN': 16, 'JMIN': 0, 'KMIN': 0, 'IMAX': 16, 'JMAX': 16, 'KMAX': 16, 'id': 0, 'block_index': 52}\n",
      "{'IMIN': 16, 'JMIN': 0, 'KMIN': 0, 'IMAX': 16, 'JMAX': 16, 'KMAX': 16, 'id': 0, 'block_index': 55}\n",
      "{'IMIN': 16, 'JMIN': 0, 'KMIN': 0, 'IMAX': 16, 'JMAX': 16, 'KMAX': 16, 'id': 0, 'block_index': 60}\n",
      "{'IMIN': 16, 'JMIN': 0, 'KMIN': 0, 'IMAX': 16, 'JMAX': 16, 'KMAX': 16, 'id': 0, 'block_index': 36}\n",
      "{'IMIN': 16, 'JMIN': 0, 'KMIN': 0, 'IMAX': 16, 'JMAX': 16, 'KMAX': 16, 'id': 0, 'block_index': 44}\n",
      "{'IMIN': 16, 'JMIN': 0, 'KMIN': 0, 'IMAX': 16, 'JMAX': 16, 'KMAX': 16, 'id': 0, 'block_index': 62}\n",
      "{'IMIN': 16, 'JMIN': 0, 'KMIN': 0, 'IMAX': 16, 'JMAX': 16, 'KMAX': 16, 'id': 0, 'block_index': 45}\n",
      "{'IMIN': 16, 'JMIN': 0, 'KMIN': 0, 'IMAX': 16, 'JMAX': 16, 'KMAX': 16, 'id': 0, 'block_index': 47}\n",
      "{'IMIN': 16, 'JMIN': 0, 'KMIN': 0, 'IMAX': 16, 'JMAX': 16, 'KMAX': 16, 'id': 0, 'block_index': 54}\n",
      "{'IMIN': 16, 'JMIN': 0, 'KMIN': 0, 'IMAX': 16, 'JMAX': 16, 'KMAX': 16, 'id': 0, 'block_index': 61}\n",
      "{'IMIN': 16, 'JMIN': 0, 'KMIN': 0, 'IMAX': 16, 'JMAX': 16, 'KMAX': 16, 'id': 0, 'block_index': 63}\n",
      "{'IMIN': 16, 'JMIN': 0, 'KMIN': 0, 'IMAX': 16, 'JMAX': 16, 'KMAX': 16, 'id': 0, 'block_index': 37}\n",
      "{'IMIN': 16, 'JMIN': 0, 'KMIN': 0, 'IMAX': 16, 'JMAX': 16, 'KMAX': 16, 'id': 0, 'block_index': 46}\n",
      "{'IMIN': 16, 'JMIN': 0, 'KMIN': 0, 'IMAX': 16, 'JMAX': 16, 'KMAX': 16, 'id': 0, 'block_index': 39}\n",
      "{'IMIN': 16, 'JMIN': 0, 'KMIN': 0, 'IMAX': 16, 'JMAX': 16, 'KMAX': 16, 'id': 0, 'block_index': 53}\n"
     ]
    },
    {
     "data": {
      "text/plain": [
       "[None,\n",
       " None,\n",
       " None,\n",
       " None,\n",
       " None,\n",
       " None,\n",
       " None,\n",
       " None,\n",
       " None,\n",
       " None,\n",
       " None,\n",
       " None,\n",
       " None,\n",
       " None,\n",
       " None,\n",
       " None]"
      ]
     },
     "execution_count": 24,
     "metadata": {},
     "output_type": "execute_result"
    }
   ],
   "source": [
    "#%% Use bounding faces to find periodicity\n",
    "data = read_data()\n",
    "lower_bound = data['lower_bound']; upper_bound = data['upper_bound']\n",
    "left_bound = data['left_bound']; right_bound = data['right_bound']\n",
    "y_periodic_faces_export, periodic_faces = translational_periodicity(blocks,left_bound,right_bound,translational_direction='y')\n",
    "z_periodic_faces_export, periodic_faces = translational_periodicity(blocks,lower_bound,upper_bound,translational_direction='z')\n",
    "data['z_periodic'] = z_periodic_faces_export\n",
    "data['y_periodic'] = y_periodic_faces_export\n",
    "dump_data(data)\n",
    "\n",
    "#%%  Lets check with faces are not periodic in the y-direction\n",
    "data = read_data()\n",
    "y_periodic_faces_export = data['y_periodic']\n",
    "left_bound = data['left_bound']; right_bound = data['right_bound']\n",
    "\n",
    "left_periodic_blocks_found = [p['block1']['block_index'] for p in y_periodic_faces_export]\n",
    "left_faces_missing = [l for l in left_bound if l['block_index'] not in left_periodic_blocks_found]\n",
    "print('Left faces missing')\n",
    "[print(l) for l in left_faces_missing]\n",
    "\n",
    "right_periodic_blocks_found = [p['block2']['block_index'] for p in y_periodic_faces_export]\n",
    "right_faces_missing = [r for r in right_bound if r['block_index'] not in right_periodic_blocks_found]\n",
    "print('Right faces missing')\n",
    "[print(r) for r in right_faces_missing]"
   ]
  }
 ],
 "metadata": {
  "kernelspec": {
   "display_name": "tf2",
   "language": "python",
   "name": "python3"
  },
  "language_info": {
   "codemirror_mode": {
    "name": "ipython",
    "version": 3
   },
   "file_extension": ".py",
   "mimetype": "text/x-python",
   "name": "python",
   "nbconvert_exporter": "python",
   "pygments_lexer": "ipython3",
   "version": "3.10.8"
  },
  "orig_nbformat": 4,
  "vscode": {
   "interpreter": {
    "hash": "2f8768af6f2432629ed2c7b1bb9f42f06f05a0e0aa992f83897492e57b393a9f"
   }
  }
 },
 "nbformat": 4,
 "nbformat_minor": 2
}
